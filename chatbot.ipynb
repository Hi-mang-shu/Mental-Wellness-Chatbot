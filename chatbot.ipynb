{
 "cells": [
  {
   "cell_type": "markdown",
   "id": "3ea88f69-b75e-412f-8617-e44990610814",
   "metadata": {},
   "source": [
    "# 🧠 Mental Wellness Chatbot"
   ]
  },
  {
   "cell_type": "markdown",
   "id": "4437a75a-4363-494a-bc25-d668bf7a1a7c",
   "metadata": {},
   "source": [
    "## ✅ Required Libraries:"
   ]
  },
  {
   "cell_type": "code",
   "execution_count": 9,
   "id": "278a6962-764b-4deb-b20e-81d70f3f68db",
   "metadata": {},
   "outputs": [
    {
     "name": "stdout",
     "output_type": "stream",
     "text": [
      "Requirement already satisfied: gTTS in d:\\anaconda3\\lib\\site-packages (2.5.4)Note: you may need to restart the kernel to use updated packages.\n",
      "\n",
      "Requirement already satisfied: pygame in d:\\anaconda3\\lib\\site-packages (2.6.1)\n",
      "Requirement already satisfied: SpeechRecognition in d:\\anaconda3\\lib\\site-packages (3.14.3)\n",
      "Requirement already satisfied: scikit-learn in d:\\anaconda3\\lib\\site-packages (1.6.1)\n",
      "Requirement already satisfied: requests<3,>=2.27 in d:\\anaconda3\\lib\\site-packages (from gTTS) (2.32.3)\n",
      "Requirement already satisfied: click<8.2,>=7.1 in d:\\anaconda3\\lib\\site-packages (from gTTS) (8.1.8)\n",
      "Requirement already satisfied: colorama in d:\\anaconda3\\lib\\site-packages (from click<8.2,>=7.1->gTTS) (0.4.6)\n",
      "Requirement already satisfied: charset-normalizer<4,>=2 in d:\\anaconda3\\lib\\site-packages (from requests<3,>=2.27->gTTS) (3.3.2)\n",
      "Requirement already satisfied: idna<4,>=2.5 in d:\\anaconda3\\lib\\site-packages (from requests<3,>=2.27->gTTS) (3.7)\n",
      "Requirement already satisfied: urllib3<3,>=1.21.1 in d:\\anaconda3\\lib\\site-packages (from requests<3,>=2.27->gTTS) (2.3.0)\n",
      "Requirement already satisfied: certifi>=2017.4.17 in d:\\anaconda3\\lib\\site-packages (from requests<3,>=2.27->gTTS) (2025.4.26)\n",
      "Requirement already satisfied: typing-extensions in d:\\anaconda3\\lib\\site-packages (from SpeechRecognition) (4.12.2)\n",
      "Requirement already satisfied: standard-aifc in d:\\anaconda3\\lib\\site-packages (from SpeechRecognition) (3.13.0)\n",
      "Requirement already satisfied: audioop-lts in d:\\anaconda3\\lib\\site-packages (from SpeechRecognition) (0.2.1)\n",
      "Requirement already satisfied: numpy>=1.19.5 in d:\\anaconda3\\lib\\site-packages (from scikit-learn) (2.1.3)\n",
      "Requirement already satisfied: scipy>=1.6.0 in d:\\anaconda3\\lib\\site-packages (from scikit-learn) (1.15.3)\n",
      "Requirement already satisfied: joblib>=1.2.0 in d:\\anaconda3\\lib\\site-packages (from scikit-learn) (1.4.2)\n",
      "Requirement already satisfied: threadpoolctl>=3.1.0 in d:\\anaconda3\\lib\\site-packages (from scikit-learn) (3.5.0)\n",
      "Requirement already satisfied: standard-chunk in d:\\anaconda3\\lib\\site-packages (from standard-aifc->SpeechRecognition) (3.13.0)\n"
     ]
    }
   ],
   "source": [
    "pip install gTTS pygame SpeechRecognition scikit-learn"
   ]
  },
  {
   "cell_type": "markdown",
   "id": "d6bd016d-ce4a-460e-a112-621ada4279c6",
   "metadata": {},
   "source": [
    "## ✅ Complete Code with GUI"
   ]
  },
  {
   "cell_type": "code",
   "execution_count": 12,
   "id": "53de1939-f35d-40fb-9aa3-6be1a21df253",
   "metadata": {},
   "outputs": [
    {
     "name": "stdout",
     "output_type": "stream",
     "text": [
      "Bot: I'm listening.\n",
      "Bot: Hello! I'm here to support your mental well-being. How are you feeling today?\n",
      "Bot: I'm listening.\n",
      "Bot: I'm really sorry you're feeling this way. You're not alone, and I'm here to listen. Would you like to talk more about it?\n",
      "Bot: I'm listening.\n",
      "Bot: Try to take a few deep breaths with me. Inhale... Exhale... You can also try grounding exercises like naming 5 things you see. Want more tips?\n",
      "Bot: I'm listening.\n",
      "Bot: I'm always here to listen. You can share anything with me, and Iâ€™ll respond with care. Whatâ€™s on your mind?\n"
     ]
    }
   ],
   "source": [
    "import json\n",
    "import random\n",
    "import time\n",
    "import threading\n",
    "import tkinter as tk\n",
    "from tkinter import scrolledtext\n",
    "\n",
    "from sklearn.feature_extraction.text import TfidfVectorizer\n",
    "from sklearn.linear_model import LogisticRegression\n",
    "from sklearn.pipeline import make_pipeline\n",
    "from sklearn.preprocessing import LabelEncoder\n",
    "\n",
    "import speech_recognition as sr\n",
    "from gtts import gTTS\n",
    "import pygame\n",
    "\n",
    "# Load dataset\n",
    "with open(\"dataset.json\", \"r\") as file:\n",
    "    data = json.load(file)\n",
    "\n",
    "# Train model\n",
    "X, y = [], []\n",
    "for intent, intent_data in data[\"intents\"].items():\n",
    "    for example in intent_data[\"examples\"]:\n",
    "        X.append(example.lower())\n",
    "        y.append(intent)\n",
    "\n",
    "le = LabelEncoder()\n",
    "y_encoded = le.fit_transform(y)\n",
    "model = make_pipeline(TfidfVectorizer(), LogisticRegression(max_iter=1000))\n",
    "model.fit(X, y_encoded)\n",
    "\n",
    "# Functions\n",
    "def predict_intent(user_input):\n",
    "    user_input = user_input.lower()\n",
    "    pred = model.predict([user_input])[0]\n",
    "    intent = le.inverse_transform([pred])[0]\n",
    "    return intent\n",
    "\n",
    "def get_response(intent):\n",
    "    return data[\"intents\"][intent][\"response\"]\n",
    "\n",
    "def speak(text):\n",
    "    print(\"Bot:\", text)\n",
    "    tts = gTTS(text)\n",
    "    tts.save(\"response.mp3\")\n",
    "    pygame.mixer.init()\n",
    "    pygame.mixer.music.load(\"response.mp3\")\n",
    "    pygame.mixer.music.play()\n",
    "    while pygame.mixer.music.get_busy():\n",
    "        time.sleep(0.5)\n",
    "    pygame.mixer.music.unload()\n",
    "\n",
    "def get_voice_input():\n",
    "    recognizer = sr.Recognizer()\n",
    "    with sr.Microphone() as source:\n",
    "        log_text.insert(tk.END, \"🟢 Listening...\\n\")\n",
    "        log_text.see(tk.END)\n",
    "        speak(\"I'm listening.\")\n",
    "        audio = recognizer.listen(source)\n",
    "\n",
    "    try:\n",
    "        user_input = recognizer.recognize_google(audio)\n",
    "        return user_input\n",
    "    except sr.UnknownValueError:\n",
    "        speak(\"Sorry, I couldn't understand.\")\n",
    "        return \"\"\n",
    "    except sr.RequestError:\n",
    "        speak(\"Sorry, the speech service is unavailable.\")\n",
    "        return \"\"\n",
    "\n",
    "# GUI Function\n",
    "def start_voice_chat():\n",
    "    def run_chat():\n",
    "        user_input = get_voice_input()\n",
    "        if user_input:\n",
    "            log_text.insert(tk.END, \"You: \" + user_input + \"\\n\")\n",
    "            if any(word in user_input.lower() for word in [\"exit\", \"bye\", \"quit\", \"stop\"]):\n",
    "                farewell = get_response(\"goodbye\")\n",
    "                log_text.insert(tk.END, \"Bot: \" + farewell + \"\\n\")\n",
    "                speak(farewell)\n",
    "                return\n",
    "            intent = predict_intent(user_input)\n",
    "            response = get_response(intent)\n",
    "            log_text.insert(tk.END, \"Bot: \" + response + \"\\n\")\n",
    "            speak(response)\n",
    "            log_text.see(tk.END)\n",
    "        else:\n",
    "            log_text.insert(tk.END, \"❌ Could not understand. Try again.\\n\")\n",
    "            log_text.see(tk.END)\n",
    "\n",
    "    # Run in thread to avoid freezing GUI\n",
    "    threading.Thread(target=run_chat).start()\n",
    "\n",
    "# GUI Setup\n",
    "window = tk.Tk()\n",
    "window.title(\"🧘 Mental Wellness Chatbot\")\n",
    "window.geometry(\"500x500\")\n",
    "window.config(bg=\"#f0f8ff\")\n",
    "\n",
    "title_label = tk.Label(window, text=\"🧠 Mental Wellness Chatbot\", font=(\"Arial\", 18, \"bold\"), bg=\"#f0f8ff\")\n",
    "title_label.pack(pady=10)\n",
    "\n",
    "log_text = scrolledtext.ScrolledText(window, wrap=tk.WORD, width=60, height=20, font=(\"Consolas\", 10))\n",
    "log_text.pack(padx=10, pady=10)\n",
    "\n",
    "start_btn = tk.Button(window, text=\"🎙 Speak to Bot\", command=start_voice_chat, font=(\"Arial\", 14), bg=\"#add8e6\", fg=\"black\")\n",
    "start_btn.pack(pady=10)\n",
    "\n",
    "window.mainloop()"
   ]
  },
  {
   "cell_type": "code",
   "execution_count": null,
   "id": "d10304c1-e31c-479a-938b-4078a7748e26",
   "metadata": {},
   "outputs": [],
   "source": []
  }
 ],
 "metadata": {
  "kernelspec": {
   "display_name": "Python 3 (ipykernel)",
   "language": "python",
   "name": "python3"
  },
  "language_info": {
   "codemirror_mode": {
    "name": "ipython",
    "version": 3
   },
   "file_extension": ".py",
   "mimetype": "text/x-python",
   "name": "python",
   "nbconvert_exporter": "python",
   "pygments_lexer": "ipython3",
   "version": "3.13.5"
  }
 },
 "nbformat": 4,
 "nbformat_minor": 5
}
